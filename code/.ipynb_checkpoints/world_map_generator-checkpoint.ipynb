{
 "cells": [
  {
   "cell_type": "code",
   "execution_count": 1,
   "metadata": {
    "collapsed": true
   },
   "outputs": [],
   "source": [
    "%matplotlib inline\n",
    "#%matplotlib qt # Choose %matplotlib qt to plot to an interactive window (note it may show up behind your browser)\n",
    "# Make some of the relevant imports\n",
    "import cv2 # OpenCV for perspective transform\n",
    "import numpy as np\n",
    "import pandas as pd\n",
    "import matplotlib.image as mpimg\n",
    "import matplotlib.pyplot as plt\n",
    "import scipy.misc # For saving images as needed\n",
    "import glob  # For reading in a list of images from a folder"
   ]
  },
  {
   "cell_type": "code",
   "execution_count": 2,
   "metadata": {
    "collapsed": true
   },
   "outputs": [],
   "source": [
    "# Change this path to your data directory\n",
    "df = pd.read_csv('../test_dataset/robot_log.csv')\n",
    "img_list_sorted = df[\"Path\"].tolist() # Create list of image pathnames\n",
    "# Read in ground truth map and create a 3-channel image with it\n",
    "ground_truth = mpimg.imread('../calibration_images/map_bw.png')\n",
    "ground_truth_3 = np.dstack((ground_truth*0, ground_truth, ground_truth*0)).astype(np.float)\n",
    "\n",
    "# Creating a class to be the data container\n",
    "# Will read in saved data from csv file and populate this object\n",
    "# Worldmap is instantiated as 200 x 200 grids corresponding \n",
    "# to a 200m x 200m space (same size as the ground truth map: 200 x 200 pixels)\n",
    "# This encompasses the full range of output position values in x and y from the sim\n",
    "class Databucket():\n",
    "    def __init__(self):\n",
    "        self.images = img_list_sorted  \n",
    "        self.xpos = df[\"X_Position\"].values\n",
    "        self.ypos = df[\"Y_Position\"].values\n",
    "        self.yaw = df[\"Yaw\"].values\n",
    "        self.count = 0\n",
    "        self.worldmap = np.zeros((200, 200, 3)).astype(np.float)\n",
    "        self.ground_truth = np.copy(ground_truth_3)*255 # Ground truth worldmap\n",
    "\n",
    "# Instantiate a Databucket().. this will be a global variable/object\n",
    "# that you can refer to in the process_image() function below\n",
    "data = Databucket()"
   ]
  },
  {
   "cell_type": "code",
   "execution_count": 3,
   "metadata": {
    "collapsed": true
   },
   "outputs": [],
   "source": [
    "source = np.float32([[14, 140], [301 ,140],[200, 96], [118, 96]])\n",
    "\n",
    "destination = np.float32([[155,154],[165,154],[164,144],[155,144]])"
   ]
  },
  {
   "cell_type": "code",
   "execution_count": 4,
   "metadata": {},
   "outputs": [],
   "source": [
    "def perspect_transform(img, src, dst):\n",
    "           \n",
    "    M = cv2.getPerspectiveTransform(src, dst)\n",
    "    warped = cv2.warpPerspective(img, M, (img.shape[1], img.shape[0]))# keep same size as input image\n",
    "    \n",
    "    return warped\n",
    "\n",
    "def color_thresh(img, rgb_thresh=(160, 160, 160)):\n",
    "    # Create an array of zeros same xy size as img, but single channel\n",
    "    color_select = np.zeros_like(img[:,:,0])\n",
    "    # Require that each pixel be above all three threshold values in RGB\n",
    "    # above_thresh will now contain a boolean array with \"True\"\n",
    "    # where threshold was met\n",
    "    above_thresh = (img[:,:,0] > rgb_thresh[0]) \\\n",
    "                & (img[:,:,1] > rgb_thresh[1]) \\\n",
    "                & (img[:,:,2] > rgb_thresh[2])\n",
    "    # Index the array of zeros with the boolean array and set to 1\n",
    "    color_select[above_thresh] = 1\n",
    "    # Return the binary image\n",
    "    return color_select\n",
    "\n",
    "def rover_coords(binary_img):\n",
    "    ypos, xpos = binary_img.nonzero()\n",
    "    # Calculate pixel positions with reference to the rover position being at the \n",
    "    # center bottom of the image.  \n",
    "    x_pixel = np.absolute(ypos - binary_img.shape[0]).astype(np.float)\n",
    "    y_pixel = -(xpos - binary_img.shape[0]).astype(np.float)\n",
    "    return x_pixel, y_pixel\n",
    "\n",
    "\n",
    "# Define a function to convert to radial coords in rover space\n",
    "def to_polar_coords(x_pixel, y_pixel):\n",
    "    # Convert (x_pixel, y_pixel) to (distance, angle) \n",
    "    # in polar coordinates in rover space\n",
    "    # Calculate distance to each pixel\n",
    "    dist = np.sqrt(x_pixel**2 + y_pixel**2)\n",
    "    # Calculate angle away from vertical for each pixel\n",
    "    angles = np.arctan2(y_pixel, x_pixel)\n",
    "    return dist, angles\n",
    "\n",
    "# Define a function to map rover space pixels to world space\n",
    "def pix_to_world(xpix, ypix, x_rover, y_rover, yaw_rover, world_size, scale):\n",
    "    # Map pixels from rover space to world coords\n",
    "    yaw = yaw_rover * np.pi / 180\n",
    "    # Perform rotation, translation and clipping all at once\n",
    "    x_pix_world = np.clip(np.int_((((xpix * np.cos(yaw)) - (ypix * np.sin(yaw)))/scale) + x_rover), \n",
    "                            0, world_size - 1)\n",
    "    y_pix_world = np.clip(np.int_((((xpix * np.sin(yaw)) + (ypix * np.cos(yaw)))/scale) + y_rover), \n",
    "                            0, world_size - 1)\n",
    "  \n",
    "    return x_pix_world, y_pix_world\n",
    "\n",
    "# Define a function to pass stored images to\n",
    "# reading rover position and yaw angle from csv file\n",
    "# This function will be used by moviepy to create an output video\n",
    "def process_image(img):\n",
    "    \n",
    "    # Example of how to use the Databucket() object defined in the previous cell\n",
    "    # print(data.xpos[0], data.ypos[0], data.yaw[0])\n",
    "    warp = perspect_transform(img, source, destination)\n",
    "    colorThr = color_thresh(warp)\n",
    "    colorThr1 = np.dstack((colorThr*255 , colorThr*255 , colorThr*255))\n",
    "    output_image = np.zeros((img.shape[0] + data.worldmap.shape[0], img.shape[1]*2, 3))\n",
    "    #print (img.shape)\n",
    "    # Example\n",
    "    #output_image = ground_truth_3d\n",
    "    output_image[0:img.shape[0], 0:img.shape[1]] = img\n",
    "    output_image[0:img.shape[0], img.shape[1]:] = colorThr1\n",
    "    \n",
    "    # rover to world\n",
    "    xpix, ypix = rover_coords(colorThr)\n",
    "    \n",
    "    x_pix_world, y_pix_world = pix_to_world(xpix, ypix, data.xpos[data.count], data.ypos[data.count], data.yaw[data.count], 200, 10)\n",
    "    \n",
    "    world = data.worldmap\n",
    "    \n",
    "    world[x_pix_world,y_pix_world,:] +=1\n",
    "    #print ('x : ',data.xpos[data.count],'Y : ',data.ypos[data.count])\n",
    "    #output_image[0:img.shape[0], img.shape[1]:]= ground\n",
    "    \n",
    "    data.count += 1 # Keep track of the index in the Databucket()\n",
    "    if (data.count >=1432):\n",
    "        data.count = 1431\n",
    "    #data.worldmap = world\n",
    "    #return world*255\n",
    "    dist, angles = to_polar_coords(xpix, ypix)\n",
    "    \n",
    "    angle = np.mean(angles)\n",
    "    dis = np.max(dist)\n",
    "    data.ground_truth[y_pix_world,x_pix_world,0] = 255\n",
    "    #print (data.ground_truth.shape)\n",
    "    #cv2.putText(data.ground_truth,\"angle : \"+str(angle)+\" dist : \"+str(dis), (20, 20), \n",
    "    #           cv2.FONT_HERSHEY_COMPLEX, 0.4, (255, 255, 255), 1)\n",
    "    return data.ground_truth"
   ]
  },
  {
   "cell_type": "code",
   "execution_count": 5,
   "metadata": {},
   "outputs": [],
   "source": [
    "path = '../test_dataset/IMG/*'\n",
    "img_list = glob.glob(path)\n",
    "# Grab a random image and display it\n",
    "idx = np.random.randint(0, len(img_list)-1)\n",
    "img = mpimg.imread(img_list[idx])\n",
    "warp = perspect_transform(img, source, destination)\n",
    "colorThr = color_thresh(warp)\n",
    "xpix, ypix = rover_coords(colorThr)"
   ]
  },
  {
   "cell_type": "code",
   "execution_count": null,
   "metadata": {},
   "outputs": [
    {
     "name": "stdout",
     "output_type": "stream",
     "text": [
      "[MoviePy] >>>> Building video ../output/test_mapping.mp4\n",
      "[MoviePy] Writing video ../output/test_mapping.mp4\n"
     ]
    },
    {
     "name": "stderr",
     "output_type": "stream",
     "text": [
      "\n",
      "  0%|                                                                                         | 0/3544 [00:00<?, ?it/s]\n",
      "  0%|▎                                                                              | 12/3544 [00:00<00:30, 116.20it/s]\n",
      "  1%|▋                                                                              | 32/3544 [00:00<00:26, 132.17it/s]\n",
      "  1%|█                                                                              | 50/3544 [00:00<00:24, 143.19it/s]\n",
      "  2%|█▌                                                                             | 69/3544 [00:00<00:22, 153.39it/s]\n",
      "  3%|█▉                                                                             | 89/3544 [00:00<00:21, 163.79it/s]\n",
      "  3%|██▍                                                                           | 108/3544 [00:00<00:20, 169.37it/s]\n",
      "  4%|██▊                                                                           | 127/3544 [00:00<00:19, 173.74it/s]\n",
      "  4%|███▏                                                                          | 146/3544 [00:00<00:19, 178.17it/s]\n",
      "  5%|███▌                                                                          | 164/3544 [00:00<00:19, 175.96it/s]\n",
      "  5%|████                                                                          | 182/3544 [00:01<00:19, 175.20it/s]\n",
      "  6%|████▍                                                                         | 200/3544 [00:01<00:19, 175.96it/s]\n",
      "  6%|████▊                                                                         | 218/3544 [00:01<00:19, 174.43it/s]\n",
      "  7%|█████▏                                                                        | 238/3544 [00:01<00:18, 179.52it/s]\n",
      "  7%|█████▋                                                                        | 259/3544 [00:01<00:17, 185.81it/s]\n",
      "  8%|██████▏                                                                       | 280/3544 [00:01<00:17, 190.75it/s]\n",
      "  9%|██████▋                                                                       | 302/3544 [00:01<00:16, 197.46it/s]\n",
      "  9%|███████                                                                       | 322/3544 [00:01<00:16, 197.47it/s]\n",
      " 10%|███████▌                                                                      | 342/3544 [00:01<00:16, 192.91it/s]\n",
      " 10%|███████▉                                                                      | 362/3544 [00:01<00:16, 189.54it/s]\n",
      " 11%|████████▍                                                                     | 383/3544 [00:02<00:16, 194.55it/s]\n",
      " 11%|████████▉                                                                     | 404/3544 [00:02<00:15, 197.67it/s]\n",
      " 12%|█████████▎                                                                    | 425/3544 [00:02<00:15, 199.34it/s]\n",
      " 13%|█████████▊                                                                    | 446/3544 [00:02<00:15, 201.41it/s]\n",
      " 13%|██████████▎                                                                   | 467/3544 [00:02<00:15, 199.96it/s]\n",
      " 14%|██████████▋                                                                   | 488/3544 [00:02<00:15, 198.39it/s]\n",
      " 14%|███████████▏                                                                  | 508/3544 [00:02<00:15, 197.83it/s]\n",
      " 15%|███████████▌                                                                  | 528/3544 [00:02<00:15, 197.41it/s]\n",
      " 15%|████████████                                                                  | 548/3544 [00:02<00:15, 197.15it/s]\n",
      " 16%|████████████▌                                                                 | 568/3544 [00:02<00:15, 197.25it/s]\n",
      " 17%|████████████▉                                                                 | 588/3544 [00:03<00:15, 196.76it/s]\n",
      " 17%|█████████████▍                                                                | 608/3544 [00:03<00:15, 194.37it/s]\n",
      " 18%|█████████████▊                                                                | 628/3544 [00:03<00:15, 185.24it/s]\n",
      " 18%|██████████████▏                                                               | 647/3544 [00:03<00:15, 185.13it/s]\n",
      " 19%|██████████████▋                                                               | 669/3544 [00:03<00:14, 192.18it/s]\n",
      " 19%|███████████████▏                                                              | 690/3544 [00:03<00:14, 195.96it/s]\n",
      " 20%|███████████████▋                                                              | 712/3544 [00:03<00:14, 201.62it/s]\n",
      " 21%|████████████████▏                                                             | 733/3544 [00:03<00:14, 199.25it/s]\n",
      " 21%|████████████████▌                                                             | 754/3544 [00:03<00:14, 195.41it/s]\n",
      " 22%|█████████████████                                                             | 776/3544 [00:04<00:13, 200.64it/s]\n",
      " 23%|█████████████████▌                                                            | 798/3544 [00:04<00:13, 204.20it/s]\n",
      " 23%|██████████████████                                                            | 819/3544 [00:04<00:13, 205.46it/s]\n",
      " 24%|██████████████████▍                                                           | 840/3544 [00:04<00:13, 200.90it/s]\n",
      " 24%|██████████████████▉                                                           | 861/3544 [00:04<00:13, 193.26it/s]\n",
      " 25%|███████████████████▍                                                          | 881/3544 [00:04<00:13, 193.10it/s]\n",
      " 25%|███████████████████▊                                                          | 902/3544 [00:04<00:13, 194.97it/s]\n",
      " 26%|████████████████████▎                                                         | 923/3544 [00:04<00:13, 198.25it/s]\n",
      " 27%|████████████████████▊                                                         | 944/3544 [00:04<00:13, 199.18it/s]\n",
      " 27%|█████████████████████▏                                                        | 965/3544 [00:05<00:12, 202.15it/s]\n",
      " 28%|█████████████████████▋                                                        | 986/3544 [00:05<00:12, 201.90it/s]\n",
      " 28%|█████████████████████▉                                                       | 1007/3544 [00:05<00:13, 193.11it/s]\n",
      " 29%|██████████████████████▎                                                      | 1027/3544 [00:05<00:13, 188.62it/s]\n",
      " 30%|██████████████████████▋                                                      | 1046/3544 [00:05<00:13, 188.32it/s]\n",
      " 30%|███████████████████████▏                                                     | 1066/3544 [00:05<00:13, 190.14it/s]\n",
      " 31%|███████████████████████▌                                                     | 1086/3544 [00:05<00:13, 187.43it/s]\n",
      " 31%|████████████████████████                                                     | 1105/3544 [00:05<00:13, 177.47it/s]\n",
      " 32%|████████████████████████▍                                                    | 1125/3544 [00:05<00:13, 182.04it/s]\n",
      " 32%|████████████████████████▉                                                    | 1146/3544 [00:05<00:12, 187.44it/s]\n",
      " 33%|█████████████████████████▎                                                   | 1167/3544 [00:06<00:12, 192.47it/s]\n",
      " 33%|█████████████████████████▊                                                   | 1187/3544 [00:06<00:12, 191.44it/s]\n",
      " 34%|██████████████████████████▏                                                  | 1207/3544 [00:06<00:12, 185.66it/s]\n",
      " 35%|██████████████████████████▋                                                  | 1228/3544 [00:06<00:12, 191.68it/s]\n",
      " 35%|███████████████████████████                                                  | 1248/3544 [00:06<00:11, 193.95it/s]\n",
      " 36%|███████████████████████████▌                                                 | 1268/3544 [00:06<00:11, 195.58it/s]"
     ]
    }
   ],
   "source": [
    "# Import everything needed to edit/save/watch video clips\n",
    "from moviepy.editor import VideoFileClip\n",
    "from moviepy.editor import ImageSequenceClip\n",
    "data = Databucket()\n",
    "\n",
    "\n",
    "# Define pathname to save the output video\n",
    "output = '../output/test_mapping.mp4'\n",
    "\n",
    "clip = ImageSequenceClip(data.images, fps=60)\n",
    "new_clip = clip.fl_image(process_image) #NOTE: this function expects color images!!\n",
    "new_clip.write_videofile(output, audio=False)"
   ]
  },
  {
   "cell_type": "code",
   "execution_count": 8,
   "metadata": {
    "scrolled": true
   },
   "outputs": [
    {
     "data": {
      "text/html": [
       "\n",
       "<video width=\"960\" height=\"540\" controls>\n",
       "  <source src=\"../output/test_mapping.mp4\">\n",
       "</video>\n"
      ],
      "text/plain": [
       "<IPython.core.display.HTML object>"
      ]
     },
     "execution_count": 8,
     "metadata": {},
     "output_type": "execute_result"
    }
   ],
   "source": [
    "from IPython.display import HTML\n",
    "HTML(\"\"\"\n",
    "<video width=\"960\" height=\"540\" controls>\n",
    "  <source src=\"{0}\">\n",
    "</video>\n",
    "\"\"\".format(output))"
   ]
  },
  {
   "cell_type": "code",
   "execution_count": null,
   "metadata": {
    "collapsed": true
   },
   "outputs": [],
   "source": []
  }
 ],
 "metadata": {
  "anaconda-cloud": {},
  "kernelspec": {
   "display_name": "Python [conda env:RoboND]",
   "language": "python",
   "name": "conda-env-RoboND-py"
  },
  "language_info": {
   "codemirror_mode": {
    "name": "ipython",
    "version": 3
   },
   "file_extension": ".py",
   "mimetype": "text/x-python",
   "name": "python",
   "nbconvert_exporter": "python",
   "pygments_lexer": "ipython3",
   "version": "3.5.2"
  },
  "widgets": {
   "state": {},
   "version": "1.1.2"
  }
 },
 "nbformat": 4,
 "nbformat_minor": 1
}
